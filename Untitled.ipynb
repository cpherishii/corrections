{
 "cells": [
  {
   "cell_type": "code",
   "execution_count": 24,
   "id": "35233dba-206e-4458-a970-dd9dcfb77969",
   "metadata": {},
   "outputs": [
    {
     "name": "stdout",
     "output_type": "stream",
     "text": [
      "[['any'], ['any']]\n",
      "[['to', 'with'], ['with']]\n",
      "[['no'], ['any']]\n"
     ]
    }
   ],
   "source": [
    "clozed_sentence1 = 'I didn\\'t say ____thing to ____one.'\n",
    "original_sentences1 = ['I didn\\'t say anything to anyone.']\n",
    "\n",
    "clozed_sentence2 = 'That happened ____ the girl that I live ____.'\n",
    "original_sentences2 = ['That happened to the girl that I live with.',\n",
    "                        'That happened with the girl that I live with.']\n",
    "\n",
    "clozed_sentence3 = '____ one said ____thing.'\n",
    "original_sentences3 = ['No one said anything.']\n",
    "\n",
    "def get_missing_words(clozed_sentence, original_sentences):\n",
    "    gap_indices = [i for i in range(len(clozed_sentence)) if clozed_sentence.startswith('____', i)]\n",
    "    sentence_chunks = []\n",
    "    end_of_gap = gap_indices[0] + 4\n",
    "    counter = 0\n",
    "    for i in range(len(clozed_sentence)):\n",
    "        if clozed_sentence.startswith('____', i):\n",
    "            counter += 1\n",
    "            if counter == len(gap_indices):\n",
    "                sentence_chunk = clozed_sentence[end_of_gap:]\n",
    "                sentence_chunks.append(sentence_chunk)\n",
    "            else:\n",
    "                sentence_chunk = clozed_sentence[end_of_gap:gap_indices[counter]]\n",
    "                end_of_gap = gap_indices[counter] + 4\n",
    "                sentence_chunks.append(sentence_chunk)\n",
    "    starting_indices_list = []\n",
    "    ending_indices_list = []\n",
    "    missing_words = []\n",
    "    for sentence in original_sentences:\n",
    "        starting_indices = [gap_indices[0]]\n",
    "        ending_indices = []\n",
    "        counter2 = 0\n",
    "        for i in range(len(sentence)):\n",
    "            if sentence.startswith(sentence_chunks[counter2], i):\n",
    "                if counter2 < len(sentence_chunks) - 1:\n",
    "                    ending_indices.append(i)\n",
    "                    starting_indices.append(i + len(sentence_chunks[counter2]))\n",
    "                    counter2 += 1\n",
    "                else:\n",
    "                    ending_indices.append(i)\n",
    "        for i in range(len(starting_indices)):\n",
    "            if len(missing_words) > i:\n",
    "                missing_word = sentence[starting_indices[i]:ending_indices[i]].lower()\n",
    "                if missing_word not in missing_words[i]:\n",
    "                    missing_words[i].append(missing_word)\n",
    "            else:\n",
    "                missing_word = sentence[starting_indices[i]:ending_indices[i]].lower()\n",
    "                missing_word_choices = []\n",
    "                missing_word_choices.append(missing_word)\n",
    "                missing_words.append(missing_word_choices)\n",
    "        \n",
    "        starting_indices_list.append(starting_indices)\n",
    "        ending_indices_list.append(ending_indices)\n",
    "    \n",
    "    return missing_words\n",
    "\n",
    "print(get_missing_words(clozed_sentence1, original_sentences1))\n",
    "print(get_missing_words(clozed_sentence2, original_sentences2))\n",
    "print(get_missing_words(clozed_sentence3, original_sentences3))\n"
   ]
  },
  {
   "cell_type": "code",
   "execution_count": null,
   "id": "0c20e7e5-54be-4567-9325-1584741a6191",
   "metadata": {},
   "outputs": [],
   "source": []
  },
  {
   "cell_type": "code",
   "execution_count": null,
   "id": "196091f2-0853-42b1-9b67-43b45fe5200a",
   "metadata": {},
   "outputs": [],
   "source": []
  }
 ],
 "metadata": {
  "kernelspec": {
   "display_name": "Python 3 (ipykernel)",
   "language": "python",
   "name": "python3"
  },
  "language_info": {
   "codemirror_mode": {
    "name": "ipython",
    "version": 3
   },
   "file_extension": ".py",
   "mimetype": "text/x-python",
   "name": "python",
   "nbconvert_exporter": "python",
   "pygments_lexer": "ipython3",
   "version": "3.12.4"
  }
 },
 "nbformat": 4,
 "nbformat_minor": 5
}
