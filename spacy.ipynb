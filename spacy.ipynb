{
 "cells": [
  {
   "cell_type": "code",
   "execution_count": 37,
   "id": "86baaa0f-a3bd-467b-ad85-0444bd85ff8d",
   "metadata": {},
   "outputs": [
    {
     "name": "stdout",
     "output_type": "stream",
     "text": [
      "['We have nice weather.', 'I consider myself someone who enjoys nature.', \"She's a nice person in real life.\", 'When you talk to other people, you have to be able to understand different accents.', 'I thought it would be a piece of cake.', 'It was normal when we were children.', 'My mother always watches football on TV.', 'My family has a lot of problems with health.', 'For Chinese people, socialism is like the monarchy in the U.K.', \"He's allergic to dogs.\"]\n",
      "<class 'list'>\n"
     ]
    }
   ],
   "source": [
    "import pandas as pd\n",
    "import os\n",
    "\n",
    "sentences = []\n",
    "for file in os.listdir('csv'):\n",
    "    if file[-4:] == '.csv':\n",
    "        errors = pd.read_csv(f'csv/{file}', encoding='ANSI', sep=';')\n",
    "        correct_sentences = [correction.split('\\n')[0].replace('’', '\\'') for correction in errors['correct sentence']]\n",
    "        sentences += correct_sentences\n",
    "\n",
    "print(sentences[:10])\n",
    "print(type(sentences))"
   ]
  },
  {
   "cell_type": "code",
   "execution_count": 38,
   "id": "55fb4c75-d01a-42d7-8b6d-7908b713f437",
   "metadata": {},
   "outputs": [],
   "source": [
    "import spacy\n",
    "\n",
    "nlp = spacy.load('en_core_web_sm')\n",
    "\n",
    "parsed_sentences = [nlp(sentence) for sentence in sentences]\n"
   ]
  },
  {
   "cell_type": "code",
   "execution_count": 39,
   "id": "f57acbc1-6b3b-4916-8a19-679d19047bc9",
   "metadata": {},
   "outputs": [
    {
     "name": "stdout",
     "output_type": "stream",
     "text": [
      "[[['I (I)'], ['thought (think)'], ['about (about)'], ['moving', 'moving', 'to move'], ['to (to)'], ['Australia (Australia)'], ['. (.)']], [['I (I)'], ['prefer (prefer)'], ['playing', 'playing', 'to play'], ['/ (/)'], ['to play', 'playing', 'to play'], ['team (team)'], ['sports (sport)'], ['. (.)']], [['It (it)'], [\"'s (be)\"], ['easier (easy)'], ['to understand', 'understanding', 'to understand'], ['. (.)']], [['It (it)'], [\"'s (be)\"], ['very (very)'], ['expensive (expensive)'], ['to live', 'living', 'to live'], ['in (in)'], ['Norway (Norway)'], ['. (.)']], [['I (I)'], ['always (always)'], ['think (think)'], ['about (about)'], ['donating', 'donating', 'to donate'], ['blood (blood)'], ['. (.)']], [['I (I)'], ['always (always)'], ['spend (spend)'], ['a (a)'], ['lot (lot)'], ['of (of)'], ['money (money)'], ['trying', 'trying', 'to try'], ['to improve', 'improving', 'to improve'], ['my (my)'], ['skin (skin)'], ['. (.)']], [['I (I)'], [\"'m (be)\"], ['here (here)'], ['to be', 'being', 'to be'], ['able (able)'], ['to achieve', 'achieving', 'to achieve'], ['this (this)'], ['goal (goal)'], ['. (.)']], [['I (I)'], ['avoid (avoid)'], ['speaking', 'speaking', 'to speak'], ['English (English)'], ['when (when)'], ['I (I)'], [\"'m (be)\"], ['tired (tired)'], ['. (.)']], [['You (you)'], ['can (can)'], ['drink'], ['it (it)'], ['without (without)'], ['knowing', 'knowing', 'to know'], ['. (.)']], [['People (People)'], ['do (do)'], [\"n't (not)\"], ['have'], ['anywhere (anywhere)'], ['to live', 'living', 'to live'], ['. (.)']]]\n"
     ]
    }
   ],
   "source": [
    "import random\n",
    "import pyinflect\n",
    "\n",
    "def get_ger_inf_list(num_sentences):\n",
    "    ger_inf_list = []\n",
    "    seen_sentences = []\n",
    "    while len(ger_inf_list) < num_sentences:\n",
    "        random_sentence = sentences[random.choice(range(len(sentences)-1))]\n",
    "        if random_sentence not in seen_sentences:\n",
    "            seen_sentences.append(random_sentence)\n",
    "            parsed_sentence = nlp(random_sentence)\n",
    "            word_list = []\n",
    "            \n",
    "            for token in parsed_sentence:\n",
    "                if token.tag_ == 'TO':\n",
    "                    next = parsed_sentence[token.i+1] if token.i+1 < len(parsed_sentence) else None\n",
    "                    if next and next.tag_ == 'VB':\n",
    "                        continue\n",
    "                elif token.tag_ == 'VB':\n",
    "                    prev = parsed_sentence[token.i-1] if token.i-1 >= 0 else None\n",
    "                    if prev and prev.tag_ == 'TO':\n",
    "                        inflected_forms = ['to ' + token.text] + get_verb_forms(token, ['VBG', 'TO'])\n",
    "                        word_list.append(inflected_forms)\n",
    "                    else:\n",
    "                        word_list.append([token.text])\n",
    "                elif token.tag_ == 'VBG':\n",
    "                    prev = parsed_sentence[token.i-1] if token.i-1 >= 0 else None\n",
    "                    if (prev and prev.lemma_ == 'be') or (prev and prev.text == 'n\\'t'):\n",
    "                        word_list.append([token.text])\n",
    "                    else:\n",
    "                        inflected_forms = [token.text] + get_verb_forms(token, ['VBG', 'TO'])\n",
    "                        word_list.append(inflected_forms)\n",
    "                else:\n",
    "                    word_list.append([token.text])\n",
    "            for word in word_list:\n",
    "                if len(word) > 1:\n",
    "                    ger_inf_list.append(word_list)\n",
    "                    break\n",
    "\n",
    "    return ger_inf_list\n",
    "\n",
    "def get_verb_forms(token, target_tags):\n",
    "    inflected_forms = []\n",
    "    for tag in target_tags:\n",
    "        if tag == 'TO':\n",
    "            infinitive = token._.inflect('VB')\n",
    "            if infinitive:\n",
    "                inflected_forms.append('to ' + infinitive)\n",
    "            else:\n",
    "                inflected_forms.append('to ' + token.text)\n",
    "        else:\n",
    "            inflected_form = token._.inflect(tag)\n",
    "            if inflected_form:\n",
    "                inflected_forms.append(inflected_form)\n",
    "    return inflected_forms\n",
    "\n",
    "print(get_ger_inf_list(10))"
   ]
  },
  {
   "cell_type": "code",
   "execution_count": null,
   "id": "b1e237c2-441f-4a9a-9935-2e916890091b",
   "metadata": {},
   "outputs": [],
   "source": []
  },
  {
   "cell_type": "code",
   "execution_count": null,
   "id": "9996995c-d618-4092-a248-7029124af8d9",
   "metadata": {},
   "outputs": [],
   "source": []
  }
 ],
 "metadata": {
  "kernelspec": {
   "display_name": "Python (corrections)",
   "language": "python",
   "name": "corrections"
  },
  "language_info": {
   "codemirror_mode": {
    "name": "ipython",
    "version": 3
   },
   "file_extension": ".py",
   "mimetype": "text/x-python",
   "name": "python",
   "nbconvert_exporter": "python",
   "pygments_lexer": "ipython3",
   "version": "3.12.4"
  }
 },
 "nbformat": 4,
 "nbformat_minor": 5
}
