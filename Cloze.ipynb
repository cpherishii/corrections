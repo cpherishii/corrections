{
 "cells": [
  {
   "cell_type": "code",
   "execution_count": 15,
   "id": "98fa2b2c-559d-4e24-a174-e6c97745dc41",
   "metadata": {},
   "outputs": [
    {
     "name": "stdout",
     "output_type": "stream",
     "text": [
      "[{'clozed_sentence': \"I can't c____centrate ____ my work.\", 'original_sentences': [\"I can't concentrate on my work.\"], 'missing_words': ['on']}, {'clozed_sentence': 'What are you working ____?', 'original_sentences': ['What are you working on?'], 'missing_words': ['on']}]\n",
      "[re.compile('(?<!\\\\w)at(?!\\\\w)', re.IGNORECASE), re.compile('(?<!\\\\w)on(?!\\\\w)', re.IGNORECASE)]\n",
      "['on']\n"
     ]
    }
   ],
   "source": [
    "import re\n",
    "\n",
    "sentences = ['The stone was really heavy, so no one could have carried it.',\n",
    "             'I don\\'t have patience for anything.',\n",
    "             'Nobody / No one had told me, so it wasn\\'t my fault.',\n",
    "             'Usually when I go somewhere, I ask my brother to look after my dog.',\n",
    "             'If I were invisible, I could rob a bank, but I probably wouldn’t have the courage.',\n",
    "             'I prefer not to remember that.',\n",
    "             'I can\\'t concentrate on my work.',\n",
    "             'What are you working on?']\n",
    "\n",
    "target_words = ['at', 'on']\n",
    "\n",
    "regex_patterns = []\n",
    "sentences_with_target_words = []\n",
    "\n",
    "for word in target_words:\n",
    "    base_word = word.strip('.')\n",
    "                \n",
    "    if word.startswith('...'):\n",
    "        if word.endswith('...'):\n",
    "            pattern = re.compile(rf'{re.escape(base_word)}', re.IGNORECASE)\n",
    "        else:\n",
    "            # Match words ending with base_word\n",
    "            pattern = re.compile(rf'{re.escape(base_word)}(?!\\w)', re.IGNORECASE)\n",
    "    elif word.endswith('...'):\n",
    "        # Match words starting with base_word\n",
    "        pattern = re.compile(rf'(?<!\\w){re.escape(base_word)}', re.IGNORECASE)\n",
    "    else:\n",
    "        # Match complete words\n",
    "        pattern = re.compile(rf'(?<!\\w){re.escape(base_word)}(?!\\w)', re.IGNORECASE)\n",
    "    regex_patterns.append(pattern)\n",
    "\n",
    "\n",
    "for sentence in sentences:\n",
    "    for pattern in regex_patterns:\n",
    "        if pattern.search(sentence):\n",
    "            if sentence not in sentences_with_target_words:\n",
    "                sentences_with_target_words.append(sentence)\n",
    "\n",
    "unique_clozed_sentences = []\n",
    "sentence_dicts = []\n",
    "        \n",
    "for sentence in sentences_with_target_words:\n",
    "    clozed_sentence = sentence\n",
    "    missing_words = []\n",
    "    \n",
    "    for pattern in regex_patterns:\n",
    "        matches = pattern.findall(sentence)\n",
    "        for match in matches:\n",
    "            # Replace each match with a blank and record the missing word\n",
    "            \n",
    "            clozed_sentence = clozed_sentence.replace(match, '____')\n",
    "            missing_words.append(match.lower())\n",
    "    if clozed_sentence not in unique_clozed_sentences:\n",
    "        \n",
    "        unique_clozed_sentences.append(clozed_sentence)\n",
    "        sentence_dict = {\n",
    "            'clozed_sentence': clozed_sentence,\n",
    "            'original_sentences': [sentence],\n",
    "            'missing_words': missing_words,\n",
    "        }\n",
    "        sentence_dicts.append(sentence_dict)\n",
    "    else:\n",
    "        for dict_item in sentence_dicts:\n",
    "            if dict_item['clozed_sentence'] == clozed_sentence:\n",
    "                if sentence not in dict_item['original_sentences']:\n",
    "                    dict_item['original_sentences'].append(sentence)\n",
    "                for i, word in enumerate(dict_item['missing_words']):\n",
    "                    if missing_words[i] not in word:\n",
    "                        word.append(missing_words[i])       \n",
    "\n",
    "print(sentence_dicts)\n",
    "print(regex_patterns)\n",
    "print(missing_words)"
   ]
  },
  {
   "cell_type": "code",
   "execution_count": null,
   "id": "66dcdeae-cb80-463a-91fe-9b38cd3cd9ed",
   "metadata": {},
   "outputs": [],
   "source": []
  }
 ],
 "metadata": {
  "kernelspec": {
   "display_name": "Python 3 (ipykernel)",
   "language": "python",
   "name": "python3"
  },
  "language_info": {
   "codemirror_mode": {
    "name": "ipython",
    "version": 3
   },
   "file_extension": ".py",
   "mimetype": "text/x-python",
   "name": "python",
   "nbconvert_exporter": "python",
   "pygments_lexer": "ipython3",
   "version": "3.12.4"
  }
 },
 "nbformat": 4,
 "nbformat_minor": 5
}
